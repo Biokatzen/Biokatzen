{
  "nbformat": 4,
  "nbformat_minor": 0,
  "metadata": {
    "colab": {
      "provenance": [],
      "authorship_tag": "ABX9TyNFkyRSu4ni3n6bXl8IAfyh",
      "include_colab_link": true
    },
    "kernelspec": {
      "name": "python3",
      "display_name": "Python 3"
    },
    "language_info": {
      "name": "python"
    }
  },
  "cells": [
    {
      "cell_type": "markdown",
      "metadata": {
        "id": "view-in-github",
        "colab_type": "text"
      },
      "source": [
        "<a href=\"https://colab.research.google.com/github/Biokatzen/Biokatzen/blob/main/HepatitisC_Prediction_Dataset.ipynb\" target=\"_parent\"><img src=\"https://colab.research.google.com/assets/colab-badge.svg\" alt=\"Open In Colab\"/></a>"
      ]
    },
    {
      "cell_type": "markdown",
      "source": [
        "# Hepatitis C Prediction Dataset\n",
        "\n",
        "The dataset used in this study contains data from female and male blood donors and patients suffering from hepatitis C, fibrosis and cirrhosis with ages ranged from 19 to 77. These are the categorical variables that will be used for classification and clustering later on. The numerical variables are the following: ALB, ALP, ALT, AST, BIL, CHE, CHOL, CREA, GGT, PROT, which are traditional diagnostic tests for liver diseases.\n",
        "\n",
        "The table below resumes all the attributes found in this dataset:\n"
      ],
      "metadata": {
        "id": "2Ye82LitTY4I"
      }
    },
    {
      "cell_type": "markdown",
      "source": [
        "| **Attribute** | **Value** | **Value Label** | **Type** | **Description** |\n",
        "|----------------|----------------|-----------------|-----------|-----------------|\n",
        "| **Patient ID/No.** | Numeric | – | Integer | Patient identification |\n",
        "| **Category** | 0 | Blood Donor | Categorical | Diagnosis of the patient. Blood donor vs Hepatitis C including its progress to Fibrosis and Cirrhosis |\n",
        "|  | 0s | Suspect Blood Donor |  |  |\n",
        "|  | 1 | Hepatitis |  |  |\n",
        "|  | 2 | Fibrosis |  |  |\n",
        "|  | 3 | Cirrhosis |  |  |\n",
        "| **Age** | Numeric | – | Integer |  |\n",
        "| **Sex** | f | Female | Binary |  |\n",
        "|  | m | Male |  |  |\n",
        "| **ALB** | Numeric | – | Continuous | Albumin Blood Test (g/L)|\n",
        "| **ALP** | Numeric | – | Continuous | Alkaline Phosphatase (U/L) |\n",
        "| **ALT** | Numeric | – | Continuous | Alanine Transaminase (U/L) |\n",
        "| **AST** | Numeric | – | Continuous | Aspartate Transaminase (U/L)|\n",
        "| **BIL** | Numeric | – | Continuous | Bilirubin (µmol/L) |\n",
        "| **CHE** | Numeric | – | Continuous | Acetylcholinesterase (U/mL)|\n",
        "| **CHOL** | Numeric | – | Continuous | Cholesterol (mmol/L) |\n",
        "| **CREA** | Numeric | – | Continuous | Creatinine (µmol/L) |\n",
        "| **GGT** | Numeric | – | Continuous | Gamma-Glutamyl Transferase (U/L) |\n",
        "| **PROT** | Numeric | – | Continuous | Total Protein (g/L)|\n"
      ],
      "metadata": {
        "id": "o19K9PIsWU-0"
      }
    }
  ]
}